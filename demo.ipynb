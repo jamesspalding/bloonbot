{
 "cells": [
  {
   "cell_type": "code",
   "execution_count": 9,
   "metadata": {},
   "outputs": [],
   "source": [
    "import pyautogui\n",
    "import pydirectinput\n",
    "import time\n",
    "import keyboard\n",
    "import pandas as pd\n",
    "import random\n",
    "import bloon_bot as bb\n",
    "import bloon_brain as br\n",
    "\n",
    "base_costs, upgrade_costs = bb.get_costs('easy')\n",
    "placement_coords = bb.initialize_placements()\n",
    "\n",
    "def switch_screen():\n",
    "    pyautogui.hotkey('alt', 'tab')\n",
    "    return"
   ]
  },
  {
   "cell_type": "markdown",
   "metadata": {},
   "source": [
    "# Bot Functions Demo"
   ]
  },
  {
   "cell_type": "code",
   "execution_count": 16,
   "metadata": {},
   "outputs": [
    {
     "name": "stdout",
     "output_type": "stream",
     "text": [
      "Entering freeplay\n"
     ]
    }
   ],
   "source": [
    "# Round state\n",
    "\n",
    "switch_screen()\n",
    "\n",
    "state = bb.round_state()\n",
    "\n",
    "if state == 0:\n",
    "    print('Round in progress')\n",
    "\n",
    "if state == 1:\n",
    "    print('Round ended')\n",
    "\n",
    "if state == 2:\n",
    "    print('Game over')\n",
    "\n",
    "if state == 3:\n",
    "    print('Entering freeplay')\n",
    "\n",
    "switch_screen()"
   ]
  },
  {
   "cell_type": "code",
   "execution_count": 17,
   "metadata": {},
   "outputs": [
    {
     "name": "stdout",
     "output_type": "stream",
     "text": [
      "wizard_monkey placed at (673,717)\n"
     ]
    },
    {
     "data": {
      "text/html": [
       "<div>\n",
       "<style scoped>\n",
       "    .dataframe tbody tr th:only-of-type {\n",
       "        vertical-align: middle;\n",
       "    }\n",
       "\n",
       "    .dataframe tbody tr th {\n",
       "        vertical-align: top;\n",
       "    }\n",
       "\n",
       "    .dataframe thead th {\n",
       "        text-align: right;\n",
       "    }\n",
       "</style>\n",
       "<table border=\"1\" class=\"dataframe\">\n",
       "  <thead>\n",
       "    <tr style=\"text-align: right;\">\n",
       "      <th></th>\n",
       "      <th>attempt</th>\n",
       "      <th>round_placed</th>\n",
       "      <th>x</th>\n",
       "      <th>y</th>\n",
       "      <th>type</th>\n",
       "      <th>top_path</th>\n",
       "      <th>middle_path</th>\n",
       "      <th>bottom_path</th>\n",
       "    </tr>\n",
       "  </thead>\n",
       "  <tbody>\n",
       "    <tr>\n",
       "      <th>0</th>\n",
       "      <td>764</td>\n",
       "      <td>41</td>\n",
       "      <td>673</td>\n",
       "      <td>717</td>\n",
       "      <td>wizard_monkey</td>\n",
       "      <td>0</td>\n",
       "      <td>0</td>\n",
       "      <td>0</td>\n",
       "    </tr>\n",
       "  </tbody>\n",
       "</table>\n",
       "</div>"
      ],
      "text/plain": [
       "   attempt  round_placed    x    y           type  top_path  middle_path  \\\n",
       "0      764            41  673  717  wizard_monkey         0            0   \n",
       "\n",
       "   bottom_path  \n",
       "0            0  "
      ]
     },
     "execution_count": 17,
     "metadata": {},
     "output_type": "execute_result"
    }
   ],
   "source": [
    "# Place tower\n",
    "\n",
    "round, money, hp = bb.get_round_info()\n",
    "towers_df = pd.DataFrame()\n",
    "attempt = 764\n",
    "\n",
    "switch_screen()\n",
    "\n",
    "towers_df = bb.place_tower(base_costs,placement_coords,towers_df,money,attempt,round)\n",
    "\n",
    "switch_screen()\n",
    "\n",
    "towers_df"
   ]
  },
  {
   "cell_type": "code",
   "execution_count": 18,
   "metadata": {},
   "outputs": [
    {
     "name": "stdout",
     "output_type": "stream",
     "text": [
      "wizard_monkey upgraded to (1, 0, 0)\n"
     ]
    },
    {
     "data": {
      "text/html": [
       "<div>\n",
       "<style scoped>\n",
       "    .dataframe tbody tr th:only-of-type {\n",
       "        vertical-align: middle;\n",
       "    }\n",
       "\n",
       "    .dataframe tbody tr th {\n",
       "        vertical-align: top;\n",
       "    }\n",
       "\n",
       "    .dataframe thead th {\n",
       "        text-align: right;\n",
       "    }\n",
       "</style>\n",
       "<table border=\"1\" class=\"dataframe\">\n",
       "  <thead>\n",
       "    <tr style=\"text-align: right;\">\n",
       "      <th></th>\n",
       "      <th>attempt</th>\n",
       "      <th>round_placed</th>\n",
       "      <th>x</th>\n",
       "      <th>y</th>\n",
       "      <th>type</th>\n",
       "      <th>top_path</th>\n",
       "      <th>middle_path</th>\n",
       "      <th>bottom_path</th>\n",
       "    </tr>\n",
       "  </thead>\n",
       "  <tbody>\n",
       "    <tr>\n",
       "      <th>0</th>\n",
       "      <td>764</td>\n",
       "      <td>41</td>\n",
       "      <td>673</td>\n",
       "      <td>717</td>\n",
       "      <td>wizard_monkey</td>\n",
       "      <td>1</td>\n",
       "      <td>0</td>\n",
       "      <td>0</td>\n",
       "    </tr>\n",
       "  </tbody>\n",
       "</table>\n",
       "</div>"
      ],
      "text/plain": [
       "   attempt  round_placed    x    y           type  top_path  middle_path  \\\n",
       "0      764            41  673  717  wizard_monkey         1            0   \n",
       "\n",
       "   bottom_path  \n",
       "0            0  "
      ]
     },
     "execution_count": 18,
     "metadata": {},
     "output_type": "execute_result"
    }
   ],
   "source": [
    "# Upgrade tower\n",
    "\n",
    "round, money, hp = bb.get_round_info()\n",
    "\n",
    "switch_screen()\n",
    "\n",
    "towers_df = bb.upgrade_tower(towers_df,upgrade_costs,money)\n",
    "\n",
    "switch_screen()\n",
    "\n",
    "towers_df"
   ]
  }
 ],
 "metadata": {
  "kernelspec": {
   "display_name": "Python 3",
   "language": "python",
   "name": "python3"
  },
  "language_info": {
   "codemirror_mode": {
    "name": "ipython",
    "version": 3
   },
   "file_extension": ".py",
   "mimetype": "text/x-python",
   "name": "python",
   "nbconvert_exporter": "python",
   "pygments_lexer": "ipython3",
   "version": "3.11.1"
  }
 },
 "nbformat": 4,
 "nbformat_minor": 2
}
