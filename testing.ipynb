{
 "cells": [
  {
   "cell_type": "markdown",
   "metadata": {},
   "source": [
    "# Bloon Bot\n",
    "\n",
    "### Model: Proximal Policy Optimization\n",
    "\n",
    "### Objectives:\n",
    "\n",
    "* Maximize rounds survived\n",
    "\n",
    "* Determine best placement\n",
    "\n",
    "* Reward passing rounds\n",
    "\n",
    "* Penalize losing lives\n",
    "\n",
    "* Penalize bloons reaching % of track\n",
    "\n",
    "* Provide map data\n",
    "\n"
   ]
  },
  {
   "cell_type": "code",
   "execution_count": 2,
   "metadata": {},
   "outputs": [],
   "source": [
    "import pytesseract\n",
    "import re\n",
    "import pyautogui\n",
    "import pydirectinput\n",
    "import time\n",
    "from PIL import ImageGrab, Image\n",
    "\n",
    "#load tesseract\n",
    "tess_path = 'C:/Users/james/AppData/Local/Programs/Tesseract-OCR/tesseract.exe'\n",
    "pytesseract.pytesseract.tesseract_cmd = tess_path\n",
    "\n",
    "#extract text from image\n",
    "def img_to_num(img):\n",
    "    imgstr = pytesseract.image_to_string(img,config='--psm 6').replace(',', '')\n",
    "    imgstr = imgstr.replace(';', '')\n",
    "    return([int(s) for s in re.findall(r'\\d+', imgstr)])"
   ]
  },
  {
   "cell_type": "code",
   "execution_count": 3,
   "metadata": {},
   "outputs": [],
   "source": [
    "#returns health, money, and round\n",
    "def get_game_info():\n",
    "\n",
    "    pyautogui.hotkey('alt', 'prtscr')\n",
    "    img = ImageGrab.grabclipboard()\n",
    "    img.save('temp.png')\n",
    "    im = Image.open('temp.png')\n",
    "    width, height = im.size\n",
    "    varlist = []\n",
    "    \n",
    "    while True:\n",
    "        left = .07 * width\n",
    "        right = .27 * width\n",
    "        top = .048 * height\n",
    "        bottom = .1 * height\n",
    "        \n",
    "        im1 = im.crop((left, top, right, bottom))\n",
    "        im1.save('temp1.png')\n",
    "        hpmoney = img_to_num('temp1.png')\n",
    "\n",
    "        if len(hpmoney) !=2:\n",
    "            print(len(hpmoney), ' value found, retrying...')\n",
    "        else:\n",
    "            varlist = hpmoney\n",
    "            break\n",
    "\n",
    "    if len(str(varlist[0])) > 3:\n",
    "       varlist[0] = varlist[0] // 10\n",
    "\n",
    "    return(varlist)\n",
    "\n",
    "# get_game_info()\n"
   ]
  },
  {
   "cell_type": "code",
   "execution_count": 4,
   "metadata": {},
   "outputs": [
    {
     "data": {
      "text/plain": [
       "False"
      ]
     },
     "execution_count": 4,
     "metadata": {},
     "output_type": "execute_result"
    }
   ],
   "source": [
    "import cv2\n",
    "import numpy as np\n",
    "\n",
    "#recognize round end\n",
    "def is_new_round():\n",
    "    \n",
    "    pyautogui.hotkey('alt', 'prtscr')\n",
    "    img = ImageGrab.grabclipboard()\n",
    "    img.save('temp.png')\n",
    "\n",
    "    play_button = cv2.imread('play_button.png')\n",
    "    screen = cv2.imread('temp.png')\n",
    "\n",
    "    result = cv2.matchTemplate(screen, play_button, cv2.TM_CCOEFF_NORMED)\n",
    "    locations = np.where(result >= .8)\n",
    "\n",
    "    if len(locations[0]) > 0:\n",
    "        return(True)\n",
    "    else:\n",
    "        return(False)\n"
   ]
  },
  {
   "cell_type": "code",
   "execution_count": 15,
   "metadata": {},
   "outputs": [
    {
     "ename": "KeyboardInterrupt",
     "evalue": "",
     "output_type": "error",
     "traceback": [
      "\u001b[1;31m---------------------------------------------------------------------------\u001b[0m",
      "\u001b[1;31mKeyboardInterrupt\u001b[0m                         Traceback (most recent call last)",
      "Cell \u001b[1;32mIn[15], line 13\u001b[0m\n\u001b[0;32m     10\u001b[0m     \u001b[38;5;28;01mbreak\u001b[39;00m\n\u001b[0;32m     11\u001b[0m \u001b[38;5;28;01melse\u001b[39;00m:\n\u001b[1;32m---> 13\u001b[0m     \u001b[43mtime\u001b[49m\u001b[38;5;241;43m.\u001b[39;49m\u001b[43msleep\u001b[49m\u001b[43m(\u001b[49m\u001b[38;5;241;43m5\u001b[39;49m\u001b[43m)\u001b[49m\n\u001b[0;32m     14\u001b[0m     \u001b[38;5;28;01mif\u001b[39;00m is_new_round():\n\u001b[0;32m     15\u001b[0m         \u001b[38;5;28mprint\u001b[39m(\u001b[38;5;124m'\u001b[39m\u001b[38;5;124mRound \u001b[39m\u001b[38;5;124m'\u001b[39m,\u001b[38;5;28mround\u001b[39m)\n",
      "\u001b[1;31mKeyboardInterrupt\u001b[0m: "
     ]
    }
   ],
   "source": [
    "import keyboard\n",
    "\n",
    "\n",
    "#main func\n",
    "round = 1 #int(input(\"Enter starting round: \"))\n",
    "pyautogui.hotkey('alt', 'tab')\n",
    "while True:\n",
    "    if keyboard.is_pressed('q'):\n",
    "        print('Ending...')\n",
    "        break\n",
    "    else:\n",
    "\n",
    "        time.sleep(5)\n",
    "        if is_new_round():\n",
    "            print('Round ',round)\n",
    "            round =+1\n",
    "            print(get_game_info())\n",
    "            pydirectinput.press('space')\n",
    "        else:\n",
    "            print('Ongoing round')\n",
    "            "
   ]
  }
 ],
 "metadata": {
  "kernelspec": {
   "display_name": "Python 3",
   "language": "python",
   "name": "python3"
  },
  "language_info": {
   "codemirror_mode": {
    "name": "ipython",
    "version": 3
   },
   "file_extension": ".py",
   "mimetype": "text/x-python",
   "name": "python",
   "nbconvert_exporter": "python",
   "pygments_lexer": "ipython3",
   "version": "3.11.1"
  }
 },
 "nbformat": 4,
 "nbformat_minor": 2
}
