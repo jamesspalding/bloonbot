{
 "cells": [
  {
   "cell_type": "markdown",
   "metadata": {},
   "source": [
    "# Bloon Bot\n",
    "\n",
    "## Models to research\n",
    "\n",
    "* Genetic Algorithm\n",
    "\n",
    "* Proximal Policy Optimization\n",
    "\n",
    "## Goal: Maximize rounds survived\n",
    "\n",
    "**Rewards:**\n",
    "\n",
    "* Passing rounds\n",
    "\n",
    "* Starting rounds with leftover money\n",
    "\n",
    "* Starting rounds with less towers placed\n",
    "\n",
    "* Higher pop count\n",
    "\n",
    "**Penalties:**\n",
    "\n",
    "* Losing lives\n",
    "\n",
    "* Rounds passed until game over (pentalty decreases as rounds survived increases)"
   ]
  },
  {
   "cell_type": "code",
   "execution_count": 2,
   "metadata": {},
   "outputs": [],
   "source": [
    "import pytesseract\n",
    "import re\n",
    "import pyautogui\n",
    "import pydirectinput\n",
    "import time\n",
    "from PIL import ImageGrab, Image, ImageDraw\n",
    "import cv2\n",
    "import numpy as np\n",
    "import keyboard\n",
    "import matplotlib.pyplot as plt\n",
    "import pandas as pd\n",
    "\n",
    "import bloon_functions as bfn"
   ]
  },
  {
   "cell_type": "code",
   "execution_count": 25,
   "metadata": {},
   "outputs": [],
   "source": [
    "def screen_cap():\n",
    "    pyautogui.hotkey('alt', 'prtscr')\n",
    "    img = ImageGrab.grabclipboard()\n",
    "    img.save('temp.png')\n",
    "    return(cv2.imread('temp.png'))\n",
    "\n",
    "\n",
    "def round_state():\n",
    "    time.sleep(2)\n",
    "    screen = screen_cap()\n",
    "\n",
    "    #new round\n",
    "    play_button = cv2.imread('assets/play_button.png')\n",
    "    result = cv2.matchTemplate(screen, play_button, cv2.TM_CCOEFF_NORMED)\n",
    "    location = np.where(result == 1)\n",
    "    newround = len(location[0]) > 0\n",
    "\n",
    "    #game over\n",
    "    restart_button = cv2.imread('assets/restart_button.png')\n",
    "    result = cv2.matchTemplate(screen, restart_button, cv2.TM_CCOEFF_NORMED)\n",
    "    location = np.where(result == 1)\n",
    "    gameover = len(location[0]) > 0\n",
    "    \n",
    "\n",
    "    if gameover:\n",
    "        #click restart\n",
    "        pyautogui.moveTo(location[0][0], location[1][0])\n",
    "        pydirectinput.click()\n",
    "\n",
    "        time.sleep(.25)\n",
    "        restart_text = cv2.imread('assets/restart_text.png')\n",
    "        result = cv2.matchTemplate(screen_cap(), restart_text, cv2.TM_CCOEFF_NORMED)\n",
    "        location = np.where(result >= .8)\n",
    "\n",
    "        #confirm restart\n",
    "        pyautogui.moveTo(location[1][0], location[0][0])\n",
    "        pydirectinput.click()        \n",
    "        return(2)\n",
    "            \n",
    "    if newround:\n",
    "        return(1)\n",
    "    else:\n",
    "        return(0)"
   ]
  },
  {
   "cell_type": "code",
   "execution_count": 59,
   "metadata": {},
   "outputs": [],
   "source": [
    "\n",
    "def define_grid(precision = 100, save = False):\n",
    "    #get/crop image\n",
    "    pyautogui.hotkey('alt', 'prtscr')\n",
    "    img = ImageGrab.grabclipboard()\n",
    "    img.save('temp.png')\n",
    "    im = Image.open('temp.png')\n",
    "    width, height = im.size\n",
    "\n",
    "    left = 0 * width\n",
    "    right = .85 * width\n",
    "    top = .11 * height\n",
    "    bottom = height\n",
    "\n",
    "    image = im.crop((left, top, right, bottom))\n",
    "    image_arr = np.array(image)\n",
    "\n",
    "    #add grid\n",
    "    fig, ax = plt.subplots()\n",
    "    ax.imshow(image)\n",
    "    ax.grid(True, color='white', linestyle='-')\n",
    "    ax.set_xticks(np.arange(0, image_arr.shape[1], precision))\n",
    "    ax.set_yticks(np.arange(0, image_arr.shape[0], precision))\n",
    "\n",
    "    #get coordinates map\n",
    "    x_centers = np.arange(precision / 2, image_arr.shape[1], precision)\n",
    "    y_centers = np.arange(precision / 2, image_arr.shape[0], precision)\n",
    "    X, Y = np.meshgrid(x_centers, y_centers)\n",
    "    coordinates = np.column_stack((X.ravel(), Y.ravel()))\n",
    "\n",
    "    if save:\n",
    "        plt.savefig('map_grid.png')\n",
    "\n",
    "    plt.close(fig)\n",
    "    return(coordinates)"
   ]
  },
  {
   "cell_type": "code",
   "execution_count": 61,
   "metadata": {},
   "outputs": [],
   "source": [
    "# Cost Data\n",
    "import pandas as pd\n",
    "import math\n",
    "\n",
    "def get_costs(difficulty):\n",
    "    base_costs = pd.read_csv('assets/base_costs.csv')\n",
    "    upgrade_costs = pd.read_csv('assets/upgrade_costs.csv')\n",
    "\n",
    "    if difficulty == 'easy':\n",
    "        base_costs['cost'] * 0.85\n",
    "        upgrade_costs['cost'] = upgrade_costs['cost'] * 0.85\n",
    "        return(base_costs,upgrade_costs)\n",
    "    \n",
    "    if difficulty == 'hard':\n",
    "        base_costs['cost'] = base_costs['cost'] * 1.08\n",
    "        upgrade_costs['cost'] = upgrade_costs['cost'] * 1.08\n",
    "        return(base_costs,upgrade_costs)\n",
    "    \n",
    "    if difficulty == 'impoppable':\n",
    "        base_costs['cost'] = base_costs['cost'] * 1.2\n",
    "        upgrade_costs['cost'] = upgrade_costs['cost'] * 1.2\n",
    "        return(base_costs,upgrade_costs)\n",
    "    \n",
    "    else:\n",
    "        return(base_costs,upgrade_costs)\n",
    "\n",
    "    \n",
    "base, upgrade = get_costs('hard')\n"
   ]
  },
  {
   "cell_type": "code",
   "execution_count": 31,
   "metadata": {},
   "outputs": [],
   "source": [
    "#get health, money, round\n",
    "from PIL import ImageGrab, Image, ImageDraw\n",
    "\n",
    "def get_game_info():\n",
    "    screen_cap()\n",
    "    im = Image.open('temp.png')\n",
    "    width, height = im.size\n",
    "\n",
    "    ##### HP + Money #####\n",
    "    left = .07 * width\n",
    "    right = .30 * width\n",
    "    top = .048 * height\n",
    "    bottom = .1 * height\n",
    "    im1 = im.crop((left, top, right, bottom))\n",
    "    im1.save('temp1.png')\n",
    "\n",
    "    #obscure image\n",
    "    image = Image.open(\"temp1.png\").convert(\"L\")\n",
    "    draw = ImageDraw.Draw(image)\n",
    "    box_coordinates = (90, 0, 231, 70)\n",
    "    draw.rectangle(box_coordinates, fill=\"black\")\n",
    "    image = image.point(lambda p: 255 if p > 250 else 0)\n",
    "    image.save(\"temp1.png\")\n",
    "\n",
    "    hp, money = bfn.img_to_num('temp1.png') #remove bfn\n",
    "\n",
    "    #### Round #####\n",
    "    left = .745 * width\n",
    "    right = .7728 * width\n",
    "    top = .048 * height\n",
    "    bottom = .1 * height\n",
    "    im2 = im.crop((left, top, right, bottom))\n",
    "    im2.save('temp2.png')\n",
    "\n",
    "    #obscure image\n",
    "    image = Image.open(\"temp2.png\").convert(\"L\")\n",
    "    image = image.point(lambda p: 255 if p > 250 else 0)\n",
    "    image.save(\"temp2.png\")\n",
    "\n",
    "    round = bfn.img_to_num('temp2.png') #REMOVE BFN\n",
    "\n",
    "    return(hp,money,round)\n"
   ]
  },
  {
   "cell_type": "code",
   "execution_count": 62,
   "metadata": {},
   "outputs": [],
   "source": [
    "time.sleep(1)\n",
    "coords = pd.DataFrame(define_grid())\n",
    "base_costs, upgrade_costs = get_costs('easy')\n",
    "#place_tower(tower)\n"
   ]
  },
  {
   "cell_type": "code",
   "execution_count": 86,
   "metadata": {},
   "outputs": [],
   "source": [
    "# check money\n",
    "towers_list = []\n",
    "\n",
    "\n",
    "\n",
    "money = 500\n",
    "round = 5\n",
    "\n",
    "\n",
    "\n",
    "\n",
    "# filter to afforded costs\n",
    "towers_afforded = base_costs[base_costs['cost'] <= money]\n",
    "\n",
    "# select tower\n",
    "tower = towers_afforded.sample(n=1)\n",
    "tower = tower.reset_index(drop=True)\n",
    "name = tower['tower'].iloc[0]\n",
    "cost = float(tower['cost'].iloc[0])\n",
    "\n",
    "# select space and drop from coords\n",
    "space = coords.sample(n=1)\n",
    "coords = coords.drop(space.index).reset_index(drop=True)\n",
    "space = space.reset_index(drop=True)\n",
    "x=float(space[0].iloc[0])\n",
    "y=float(space[1].iloc[0])\n",
    "\n",
    "placement_list = [x, y, name, cost, round]\n",
    "towers_list.append(placement_list)\n",
    "\n",
    "# combine tower and space and index into new df\n",
    "# obs = pd.concat([space,tower], axis=1)\n",
    "# obs = obs.rename({0:'x',1:'y'}, axis=1)\n",
    "\n",
    "#place tower\n",
    "# pyautogui.moveTo(obs['x'], obs['y'])\n",
    "# pydirectinput.press(obs['hotkey'])\n",
    "# pydirectinput.click()        \n",
    "\n"
   ]
  },
  {
   "cell_type": "code",
   "execution_count": 89,
   "metadata": {},
   "outputs": [
    {
     "name": "stdout",
     "output_type": "stream",
     "text": [
      "[[350.0, 950.0, 'tack_shooter', 260.0, 5], [1150.0, 950.0, 'wizard_monkey', 325.0, 5]]\n",
      "[[350.0, 950.0, 'tack_shooter', 260.0, 5], [1150.0, 950.0, 'wizard_monkey', 325.0, 5], [1250.0, 650.0, 'ice_monkey', 500.0, 5]]\n"
     ]
    }
   ],
   "source": [
    "\n",
    "\n",
    "def place_tower(base_costs,coords, round):\n",
    "    towers_afforded = base_costs[base_costs['cost'] <= money]\n",
    "\n",
    "    # select tower\n",
    "    tower = towers_afforded.sample(n=1)\n",
    "    tower = tower.reset_index(drop=True)\n",
    "    name = tower['tower'].iloc[0]\n",
    "    hotkey = tower['hotkey'].iloc[0]\n",
    "    cost = float(tower['cost'].iloc[0])\n",
    "\n",
    "    # select space and drop from coords\n",
    "    space = coords.sample(n=1)\n",
    "    coords = coords.drop(space.index).reset_index(drop=True)\n",
    "    space = space.reset_index(drop=True)\n",
    "    x=float(space[0].iloc[0])\n",
    "    y=float(space[1].iloc[0])\n",
    "\n",
    "    #ensure valid placement loop here\n",
    "    pyautogui.moveTo(x, y)\n",
    "    pydirectinput.press(hotkey)\n",
    "    pydirectinput.click()\n",
    "\n",
    "    #check if works first.\n",
    "    placement_list = [x, y, name, cost, round]\n",
    "    towers_list.append(placement_list)\n",
    "    return\n",
    "\n",
    "\n",
    "print(towers_list)"
   ]
  },
  {
   "cell_type": "code",
   "execution_count": 92,
   "metadata": {},
   "outputs": [
    {
     "data": {
      "text/plain": [
       "[180, 95]"
      ]
     },
     "execution_count": 92,
     "metadata": {},
     "output_type": "execute_result"
    }
   ],
   "source": [
    "bfn.img_to_num('temp1.png')"
   ]
  },
  {
   "cell_type": "markdown",
   "metadata": {},
   "source": [
    "Tower Placement\n",
    "\n",
    "1. Check money\n",
    "\n",
    "2. choose random spot\n",
    "\n",
    "3. place tower\n",
    "\n",
    "4. check money again\n",
    "\n",
    "4. if same as before, run again (print invalid placement)\n",
    "\n",
    "5. maybe +- 5 to the coords a few times before choosing new coords\n"
   ]
  },
  {
   "cell_type": "code",
   "execution_count": 28,
   "metadata": {},
   "outputs": [
    {
     "data": {
      "text/plain": [
       "''"
      ]
     },
     "execution_count": 28,
     "metadata": {},
     "output_type": "execute_result"
    }
   ],
   "source": [
    "def img_to_num(img):   \n",
    "    imgstr = pytesseract.image_to_string(img, lang='bloons')\n",
    "    imgstr = imgstr.replace(',', '')\n",
    "    num_list = [int(s) for s in re.findall(r'\\d+', imgstr)]\n",
    "    return(num_list)\n",
    "\n",
    "#img_to_num('temp2.png')\n",
    "\n",
    "\n",
    "pytesseract.image_to_string('temp2.png', lang='bloons')"
   ]
  },
  {
   "cell_type": "code",
   "execution_count": 93,
   "metadata": {},
   "outputs": [
    {
     "data": {
      "text/plain": [
       "(180, 95, [5])"
      ]
     },
     "execution_count": 93,
     "metadata": {},
     "output_type": "execute_result"
    }
   ],
   "source": [
    "time.sleep(1)\n",
    "bfn.get_game_info()"
   ]
  },
  {
   "cell_type": "code",
   "execution_count": 11,
   "metadata": {},
   "outputs": [
    {
     "name": "stdout",
     "output_type": "stream",
     "text": [
      "19.0 42\n"
     ]
    },
    {
     "data": {
      "text/plain": [
       "False"
      ]
     },
     "execution_count": 11,
     "metadata": {},
     "output_type": "execute_result"
    }
   ],
   "source": [
    "import random\n",
    "\n",
    "def spend(money,lives,last_money,last_lives): #manually tweak these values to find best performance\n",
    "    result = False\n",
    "    lives_probs = 0\n",
    "    money_probs = 0\n",
    "    random_chance = 20\n",
    "\n",
    "    if(lives != last_lives):\n",
    "        lives_lost = last_lives - lives\n",
    "        lives_probs = 10 * lives_lost\n",
    "    \n",
    "    if(money > last_money):\n",
    "        round_money = last_money - money\n",
    "        money_probs = round_money/50\n",
    "\n",
    "    totprobs = lives_probs + money_probs + random_chance\n",
    "    selection = random.randint(1, 100)\n",
    "\n",
    "    print(totprobs, selection)\n",
    "\n",
    "    if(selection <= totprobs):\n",
    "        result = True\n",
    "\n",
    "    return(result)\n",
    "\n",
    "\n",
    "spend(1000, 200, 950, 200)"
   ]
  },
  {
   "cell_type": "code",
   "execution_count": 219,
   "metadata": {},
   "outputs": [
    {
     "name": "stdout",
     "output_type": "stream",
     "text": [
      "       x      y           type  top  mid  bot\n",
      "0  350.0  250.0  sniper_monkey    0    0    0\n",
      "1  750.0  150.0  sniper_monkey    0    0    0\n"
     ]
    }
   ],
   "source": [
    "import pandas as pd\n",
    "towers_df = pd.read_csv('data.csv')\n",
    "money = 2500\n",
    "upgrade_costs = pd.read_csv('assets/upgrade_costs.csv')\n",
    "print(towers_df)"
   ]
  },
  {
   "cell_type": "code",
   "execution_count": 224,
   "metadata": {},
   "outputs": [
    {
     "name": "stdout",
     "output_type": "stream",
     "text": [
      "             tower         path  tier  cost\n",
      "90   sniper_monkey     top_path     1   350\n",
      "95   sniper_monkey  middle_path     1   250\n",
      "100  sniper_monkey  bottom_path     1   450\n",
      "sniper_monkey upgraded to (0,1,0)\n",
      "       x      y           type  top  mid  bot\n",
      "0  350.0  250.0  sniper_monkey    0    1    0\n",
      "1  750.0  150.0  sniper_monkey    0    2    2\n"
     ]
    }
   ],
   "source": [
    "import pyautogui\n",
    "\n",
    "i=0\n",
    "while True:\n",
    "    selected_tower = towers_df.sample(1)\n",
    "\n",
    "    #check for crosspath\n",
    "    upgraded_paths = int(sum([(selected_tower['top'].iloc[0] != 0),(selected_tower['mid'].iloc[0] != 0),(selected_tower['bot'].iloc[0] != 0)]))\n",
    "    if upgraded_paths == 2:\n",
    "        locked_path = selected_tower.columns[selected_tower.eq(0).any()][0]\n",
    "        if locked_path == 'top':\n",
    "            locked_path = 'top_path'\n",
    "        if locked_path == 'mid':\n",
    "            locked_path = 'middle_path'\n",
    "        if locked_path == 'bot':\n",
    "            locked_path = 'bottom_path'\n",
    "    \n",
    "    available_upgrades = upgrade_costs[(upgrade_costs['tower'].isin(selected_tower['type']))&\n",
    "                                       (upgrade_costs['cost']<money)&\n",
    "                                       (upgrade_costs['path'] != locked_path)]\n",
    "\n",
    "    available_upgrades = available_upgrades[((available_upgrades['path']==('top_path'))&\n",
    "                                            (available_upgrades['tier']==selected_tower['top'].iloc[0]+1))|\n",
    "                                            ((available_upgrades['path']==('middle_path'))&\n",
    "                                            (available_upgrades['tier']==selected_tower['mid'].iloc[0]+1))|\n",
    "                                            ((available_upgrades['path']==('bottom_path'))&\n",
    "                                            (available_upgrades['tier']==selected_tower['bot'].iloc[0]+1))]\n",
    "\n",
    "    print(available_upgrades)\n",
    "\n",
    "    if len(available_upgrades) != 0:\n",
    "        selected_upgrade = available_upgrades.sample(1)\n",
    "        break\n",
    "\n",
    "    i=i+1\n",
    "    if i == 5:\n",
    "        print('No upgrades found.')\n",
    "        break\n",
    "\n",
    "\n",
    "x=float(selected_tower['x'].iloc[0])\n",
    "y=float(selected_tower['y'].iloc[0])\n",
    "pyautogui.moveTo(x, y)\n",
    "pydirectinput.click()\n",
    "\n",
    "selected_upgrade_path = selected_upgrade['path'].iloc[0]\n",
    "\n",
    "if selected_upgrade_path == 'top_path':\n",
    "    pydirectinput.press(',')\n",
    "    selected_tower['top'] = selected_tower['top'] + 1\n",
    "    towers_df.iloc[selected_tower.index] = selected_tower.iloc[0]\n",
    "\n",
    "if selected_upgrade_path == 'middle_path':\n",
    "    pydirectinput.press('.')\n",
    "    selected_tower['mid'] = selected_tower['mid'] + 1\n",
    "    towers_df.iloc[selected_tower.index] = selected_tower.iloc[0]\n",
    "\n",
    "if selected_upgrade_path == 'bottom_path':\n",
    "    #pydirectinput.press('/')\n",
    "    selected_tower['bot'] = selected_tower['bot'] + 1\n",
    "    towers_df.iloc[selected_tower.index] = selected_tower.iloc[0]\n",
    "\n",
    "print(f\"{selected_tower['type'].iloc[0]} upgraded to ({selected_tower['top'].iloc[0]},{selected_tower['mid'].iloc[0]},{selected_tower['bot'].iloc[0]})\")\n",
    "print(towers_df)"
   ]
  },
  {
   "cell_type": "code",
   "execution_count": 181,
   "metadata": {},
   "outputs": [
    {
     "name": "stdout",
     "output_type": "stream",
     "text": [
      "       x      y           type  top  mid  bot\n",
      "0  350.0  250.0  sniper_monkey    1    0    1\n",
      "2\n"
     ]
    }
   ],
   "source": [
    "\n",
    "\n",
    "\n",
    "\n"
   ]
  },
  {
   "cell_type": "code",
   "execution_count": 183,
   "metadata": {},
   "outputs": [
    {
     "ename": "SyntaxError",
     "evalue": "invalid syntax (1018104999.py, line 2)",
     "output_type": "error",
     "traceback": [
      "\u001b[1;36m  Cell \u001b[1;32mIn[183], line 2\u001b[1;36m\u001b[0m\n\u001b[1;33m    test{'top'}\u001b[0m\n\u001b[1;37m        ^\u001b[0m\n\u001b[1;31mSyntaxError\u001b[0m\u001b[1;31m:\u001b[0m invalid syntax\n"
     ]
    }
   ],
   "source": []
  }
 ],
 "metadata": {
  "kernelspec": {
   "display_name": "Python 3",
   "language": "python",
   "name": "python3"
  },
  "language_info": {
   "codemirror_mode": {
    "name": "ipython",
    "version": 3
   },
   "file_extension": ".py",
   "mimetype": "text/x-python",
   "name": "python",
   "nbconvert_exporter": "python",
   "pygments_lexer": "ipython3",
   "version": "3.11.1"
  }
 },
 "nbformat": 4,
 "nbformat_minor": 2
}
