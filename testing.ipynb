{
 "cells": [
  {
   "cell_type": "markdown",
   "metadata": {},
   "source": [
    "# Bloon Bot\n",
    "\n",
    "### Model: Proximal Policy Optimization\n",
    "\n",
    "### Objectives:\n",
    "\n",
    "* Maximize rounds survived\n",
    "\n",
    "* Determine best placement\n",
    "\n",
    "* Reward passing rounds\n",
    "\n",
    "* Penalize losing lives\n",
    "\n",
    "* Penalize bloons reaching % of track\n",
    "\n",
    "* Provide map data\n",
    "\n"
   ]
  },
  {
   "cell_type": "code",
   "execution_count": 1,
   "metadata": {},
   "outputs": [],
   "source": [
    "import pytesseract\n",
    "import re\n",
    "import pyautogui\n",
    "import pydirectinput\n",
    "import time\n",
    "from PIL import ImageGrab, Image\n",
    "\n",
    "#load tesseract\n",
    "tess_path = 'C:/Users/james/AppData/Local/Programs/Tesseract-OCR/tesseract.exe'\n",
    "pytesseract.pytesseract.tesseract_cmd = tess_path\n",
    "\n",
    "#extract text from image\n",
    "def img_to_num(img):\n",
    "    imgstr = pytesseract.image_to_string(img,config='--psm 6').replace(',', '')\n",
    "    imgstr = imgstr.replace(';', '')\n",
    "    return([int(s) for s in re.findall(r'\\d+', imgstr)])"
   ]
  },
  {
   "cell_type": "code",
   "execution_count": 2,
   "metadata": {},
   "outputs": [],
   "source": [
    "#returns health, money, and round\n",
    "def get_game_info():\n",
    "\n",
    "    pyautogui.hotkey('alt', 'prtscr')\n",
    "    img = ImageGrab.grabclipboard()\n",
    "    img.save('temp.png')\n",
    "    im = Image.open('temp.png')\n",
    "    width, height = im.size\n",
    "    varlist = []\n",
    "    \n",
    "    while True:\n",
    "        left = .07 * width\n",
    "        right = .27 * width\n",
    "        top = .048 * height\n",
    "        bottom = .1 * height\n",
    "        \n",
    "        im1 = im.crop((left, top, right, bottom))\n",
    "        im1.save('temp1.png')\n",
    "        hpmoney = img_to_num('temp1.png')\n",
    "\n",
    "        if len(hpmoney) !=2:\n",
    "            print(len(hpmoney), ' value found, retrying...')\n",
    "        else:\n",
    "            varlist = hpmoney\n",
    "            break\n",
    "\n",
    "    if len(str(varlist[0])) > 3:\n",
    "       varlist[0] = varlist[0] // 10\n",
    "\n",
    "    return(varlist)\n",
    "\n",
    "# get_game_info()\n"
   ]
  },
  {
   "cell_type": "code",
   "execution_count": 3,
   "metadata": {},
   "outputs": [],
   "source": [
    "import cv2\n",
    "import numpy as np\n",
    "\n",
    "#recognize round end\n",
    "def is_new_round():\n",
    "    \n",
    "    pyautogui.hotkey('alt', 'prtscr')\n",
    "    img = ImageGrab.grabclipboard()\n",
    "    img.save('temp.png')\n",
    "\n",
    "    play_button = cv2.imread('play_button.png')\n",
    "    screen = cv2.imread('temp.png')\n",
    "\n",
    "    result = cv2.matchTemplate(screen, play_button, cv2.TM_CCOEFF_NORMED)\n",
    "    locations = np.where(result >= .8)\n",
    "\n",
    "    if len(locations[0]) > 0:\n",
    "        return(True)\n",
    "    else:\n",
    "        return(False)\n"
   ]
  },
  {
   "cell_type": "code",
   "execution_count": 4,
   "metadata": {},
   "outputs": [
    {
     "ename": "",
     "evalue": "",
     "output_type": "error",
     "traceback": [
      "\u001b[1;31mThe Kernel crashed while executing code in the current cell or a previous cell. \n",
      "\u001b[1;31mPlease review the code in the cell(s) to identify a possible cause of the failure. \n",
      "\u001b[1;31mClick <a href='https://aka.ms/vscodeJupyterKernelCrash'>here</a> for more info. \n",
      "\u001b[1;31mView Jupyter <a href='command:jupyter.viewOutput'>log</a> for further details."
     ]
    }
   ],
   "source": [
    "import keyboard\n",
    "\n",
    "\n",
    "#main func\n",
    "round = 1 #int(input(\"Enter starting round: \"))\n",
    "pyautogui.hotkey('alt', 'tab')\n",
    "while True:\n",
    "    if keyboard.is_pressed('q'):\n",
    "        print('Ending...')\n",
    "        break\n",
    "    else:\n",
    "\n",
    "        time.sleep(5)\n",
    "        if is_new_round():\n",
    "            print('Round ',round)\n",
    "            round =+1\n",
    "            print(get_game_info())\n",
    "            pydirectinput.press('space')\n",
    "        else:\n",
    "            print('Ongoing round')\n",
    "            "
   ]
  }
 ],
 "metadata": {
  "kernelspec": {
   "display_name": "base",
   "language": "python",
   "name": "python3"
  },
  "language_info": {
   "codemirror_mode": {
    "name": "ipython",
    "version": 3
   },
   "file_extension": ".py",
   "mimetype": "text/x-python",
   "name": "python",
   "nbconvert_exporter": "python",
   "pygments_lexer": "ipython3",
   "version": "3.11.0"
  }
 },
 "nbformat": 4,
 "nbformat_minor": 2
}
