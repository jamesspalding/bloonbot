{
 "cells": [
  {
   "cell_type": "markdown",
   "metadata": {},
   "source": [
    "# Bloon Bot\n",
    "\n",
    "### Model: Proximal Policy Optimization\n",
    "\n",
    "### Objectives:\n",
    "\n",
    "* Maximize rounds survived\n",
    "\n",
    "* Determine best placement\n",
    "\n",
    "* Reward passing rounds\n",
    "\n",
    "* Penalize losing lives\n",
    "\n",
    "* Penalize bloons reaching % of track\n",
    "\n",
    "* Provide map data\n",
    "\n"
   ]
  },
  {
   "cell_type": "code",
   "execution_count": 21,
   "metadata": {},
   "outputs": [],
   "source": [
    "import pytesseract\n",
    "import re\n",
    "import pyautogui\n",
    "import pydirectinput\n",
    "import time\n",
    "from PIL import ImageGrab, Image\n",
    "import cv2\n",
    "import numpy as np\n",
    "import keyboard\n",
    "import bloon_functions as bfn"
   ]
  },
  {
   "cell_type": "code",
   "execution_count": 55,
   "metadata": {},
   "outputs": [
    {
     "data": {
      "text/plain": [
       "False"
      ]
     },
     "execution_count": 55,
     "metadata": {},
     "output_type": "execute_result"
    }
   ],
   "source": [
    "def screen_cap():\n",
    "    pyautogui.hotkey('alt', 'prtscr')\n",
    "    img = ImageGrab.grabclipboard()\n",
    "    img.save('temp.png')\n",
    "    return(cv2.imread('temp.png'))\n",
    "\n",
    "\n",
    "def round_state():\n",
    "    time.sleep(2)\n",
    "    screen = screen_cap()\n",
    "\n",
    "    #new round\n",
    "    play_button = cv2.imread('assets/play_button.png')\n",
    "    result = cv2.matchTemplate(screen, play_button, cv2.TM_CCOEFF_NORMED)\n",
    "    location = np.where(result == 1)\n",
    "    newround = len(location[0]) > 0\n",
    "\n",
    "    #game over\n",
    "    restart_button = cv2.imread('assets/restart_button.png')\n",
    "    result = cv2.matchTemplate(screen, restart_button, cv2.TM_CCOEFF_NORMED)\n",
    "    location = np.where(result == 1)\n",
    "    gameover = len(location[0]) > 0\n",
    "    \n",
    "\n",
    "    if gameover:\n",
    "        #click restart\n",
    "        pyautogui.moveTo(location[0][0], location[1][0])\n",
    "        pydirectinput.click()\n",
    "\n",
    "        time.sleep(.25)\n",
    "        restart_text = cv2.imread('assets/restart_text.png')\n",
    "        result = cv2.matchTemplate(screen_cap(), restart_text, cv2.TM_CCOEFF_NORMED)\n",
    "        location = np.where(result >= .8)\n",
    "\n",
    "        #confirm restart\n",
    "        pyautogui.moveTo(location[1][0], location[0][0])\n",
    "        pydirectinput.click()        \n",
    "        return(2)\n",
    "            \n",
    "    if newround:\n",
    "        return(1)\n",
    "    else:\n",
    "        return(0)"
   ]
  },
  {
   "cell_type": "code",
   "execution_count": 27,
   "metadata": {},
   "outputs": [
    {
     "name": "stdout",
     "output_type": "stream",
     "text": [
      "2\n",
      "2\n"
     ]
    },
    {
     "data": {
      "text/plain": [
       "False"
      ]
     },
     "execution_count": 27,
     "metadata": {},
     "output_type": "execute_result"
    }
   ],
   "source": []
  }
 ],
 "metadata": {
  "kernelspec": {
   "display_name": "Python 3",
   "language": "python",
   "name": "python3"
  },
  "language_info": {
   "codemirror_mode": {
    "name": "ipython",
    "version": 3
   },
   "file_extension": ".py",
   "mimetype": "text/x-python",
   "name": "python",
   "nbconvert_exporter": "python",
   "pygments_lexer": "ipython3",
   "version": "3.11.1"
  }
 },
 "nbformat": 4,
 "nbformat_minor": 2
}
