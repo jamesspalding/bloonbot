{
 "cells": [
  {
   "cell_type": "markdown",
   "metadata": {},
   "source": [
    "# Bloon Bot\n",
    "\n",
    "## Models to research\n",
    "\n",
    "* Genetic Algorithm\n",
    "\n",
    "* Proximal Policy Optimization\n",
    "\n",
    "## Goal: Maximize rounds survived\n",
    "\n",
    "**Rewards:**\n",
    "\n",
    "* Passing rounds\n",
    "\n",
    "* Starting rounds with leftover money\n",
    "\n",
    "* Starting rounds with less towers placed\n",
    "\n",
    "* Higher pop count\n",
    "\n",
    "**Penalties:**\n",
    "\n",
    "* Losing lives\n",
    "\n",
    "* Rounds passed until game over (pentalty decreases as rounds survived increases)"
   ]
  },
  {
   "cell_type": "code",
   "execution_count": 1,
   "metadata": {},
   "outputs": [
    {
     "ename": "AttributeError",
     "evalue": "module 'ctypes' has no attribute 'windll'",
     "output_type": "error",
     "traceback": [
      "\u001b[0;31m---------------------------------------------------------------------------\u001b[0m",
      "\u001b[0;31mAttributeError\u001b[0m                            Traceback (most recent call last)",
      "Cell \u001b[0;32mIn[1], line 4\u001b[0m\n\u001b[1;32m      2\u001b[0m \u001b[38;5;28;01mimport\u001b[39;00m \u001b[38;5;21;01mre\u001b[39;00m\n\u001b[1;32m      3\u001b[0m \u001b[38;5;28;01mimport\u001b[39;00m \u001b[38;5;21;01mpyautogui\u001b[39;00m\n\u001b[0;32m----> 4\u001b[0m \u001b[38;5;28;01mimport\u001b[39;00m \u001b[38;5;21;01mpydirectinput\u001b[39;00m\n\u001b[1;32m      5\u001b[0m \u001b[38;5;28;01mimport\u001b[39;00m \u001b[38;5;21;01mtime\u001b[39;00m\n\u001b[1;32m      6\u001b[0m \u001b[38;5;28;01mfrom\u001b[39;00m \u001b[38;5;21;01mPIL\u001b[39;00m \u001b[38;5;28;01mimport\u001b[39;00m ImageGrab, Image\n",
      "File \u001b[0;32m/opt/anaconda3/lib/python3.11/site-packages/pydirectinput/__init__.py:6\u001b[0m\n\u001b[1;32m      3\u001b[0m \u001b[38;5;28;01mimport\u001b[39;00m \u001b[38;5;21;01minspect\u001b[39;00m\n\u001b[1;32m      4\u001b[0m \u001b[38;5;28;01mimport\u001b[39;00m \u001b[38;5;21;01mtime\u001b[39;00m\n\u001b[0;32m----> 6\u001b[0m SendInput \u001b[38;5;241m=\u001b[39m ctypes\u001b[38;5;241m.\u001b[39mwindll\u001b[38;5;241m.\u001b[39muser32\u001b[38;5;241m.\u001b[39mSendInput\n\u001b[1;32m      7\u001b[0m MapVirtualKey \u001b[38;5;241m=\u001b[39m ctypes\u001b[38;5;241m.\u001b[39mwindll\u001b[38;5;241m.\u001b[39muser32\u001b[38;5;241m.\u001b[39mMapVirtualKeyW\n\u001b[1;32m      9\u001b[0m \u001b[38;5;66;03m# Constants for failsafe check and pause\u001b[39;00m\n",
      "\u001b[0;31mAttributeError\u001b[0m: module 'ctypes' has no attribute 'windll'"
     ]
    }
   ],
   "source": [
    "import pytesseract\n",
    "import re\n",
    "import pyautogui\n",
    "import pydirectinput\n",
    "import time\n",
    "from PIL import ImageGrab, Image\n",
    "import cv2\n",
    "import numpy as np\n",
    "import keyboard\n",
    "import matplotlib.pyplot as plt\n",
    "import pandas as pd\n",
    "\n",
    "import bloon_functions as bfn"
   ]
  },
  {
   "cell_type": "code",
   "execution_count": 55,
   "metadata": {},
   "outputs": [
    {
     "data": {
      "text/plain": [
       "False"
      ]
     },
     "execution_count": 55,
     "metadata": {},
     "output_type": "execute_result"
    }
   ],
   "source": [
    "def screen_cap():\n",
    "    pyautogui.hotkey('alt', 'prtscr')\n",
    "    img = ImageGrab.grabclipboard()\n",
    "    img.save('temp.png')\n",
    "    return(cv2.imread('temp.png'))\n",
    "\n",
    "\n",
    "def round_state():\n",
    "    time.sleep(2)\n",
    "    screen = screen_cap()\n",
    "\n",
    "    #new round\n",
    "    play_button = cv2.imread('assets/play_button.png')\n",
    "    result = cv2.matchTemplate(screen, play_button, cv2.TM_CCOEFF_NORMED)\n",
    "    location = np.where(result == 1)\n",
    "    newround = len(location[0]) > 0\n",
    "\n",
    "    #game over\n",
    "    restart_button = cv2.imread('assets/restart_button.png')\n",
    "    result = cv2.matchTemplate(screen, restart_button, cv2.TM_CCOEFF_NORMED)\n",
    "    location = np.where(result == 1)\n",
    "    gameover = len(location[0]) > 0\n",
    "    \n",
    "\n",
    "    if gameover:\n",
    "        #click restart\n",
    "        pyautogui.moveTo(location[0][0], location[1][0])\n",
    "        pydirectinput.click()\n",
    "\n",
    "        time.sleep(.25)\n",
    "        restart_text = cv2.imread('assets/restart_text.png')\n",
    "        result = cv2.matchTemplate(screen_cap(), restart_text, cv2.TM_CCOEFF_NORMED)\n",
    "        location = np.where(result >= .8)\n",
    "\n",
    "        #confirm restart\n",
    "        pyautogui.moveTo(location[1][0], location[0][0])\n",
    "        pydirectinput.click()        \n",
    "        return(2)\n",
    "            \n",
    "    if newround:\n",
    "        return(1)\n",
    "    else:\n",
    "        return(0)"
   ]
  },
  {
   "cell_type": "code",
   "execution_count": 83,
   "metadata": {},
   "outputs": [],
   "source": [
    "\n",
    "def define_grid(precision = 100, save = False):\n",
    "    #get/crop image\n",
    "    pyautogui.hotkey('alt', 'prtscr')\n",
    "    img = ImageGrab.grabclipboard()\n",
    "    img.save('temp.png')\n",
    "    im = Image.open('temp.png')\n",
    "    width, height = im.size\n",
    "\n",
    "    left = 0 * width\n",
    "    right = .85 * width\n",
    "    top = .11 * height\n",
    "    bottom = height\n",
    "\n",
    "    image = im.crop((left, top, right, bottom))\n",
    "    image_arr = np.array(image)\n",
    "\n",
    "    #add grid\n",
    "    fig, ax = plt.subplots()\n",
    "    ax.imshow(image)\n",
    "    ax.grid(True, color='white', linestyle='-')\n",
    "    ax.set_xticks(np.arange(0, image_arr.shape[1], precision))\n",
    "    ax.set_yticks(np.arange(0, image_arr.shape[0], precision))\n",
    "\n",
    "    #get coordinates map\n",
    "    x_centers = np.arange(precision / 2, image_arr.shape[1], precision)\n",
    "    y_centers = np.arange(precision / 2, image_arr.shape[0], precision)\n",
    "    X, Y = np.meshgrid(x_centers, y_centers)\n",
    "    coordinates = np.column_stack((X.ravel(), Y.ravel()))\n",
    "\n",
    "    if save:\n",
    "        plt.savefig('map_grid.png')\n",
    "\n",
    "    plt.close(fig)\n",
    "    return(coordinates)\n",
    "\n",
    "x = define_grid(75)"
   ]
  },
  {
   "cell_type": "code",
   "execution_count": 10,
   "metadata": {},
   "outputs": [],
   "source": [
    "# Cost Data\n",
    "import pandas as pd\n",
    "import math\n",
    "\n",
    "def get_costs(difficulty):\n",
    "    base_costs = pd.read_csv('assets/base_costs.csv')\n",
    "    upgrade_costs = pd.read_csv('assets/upgrade_costs.csv')\n",
    "\n",
    "    if difficulty == 'easy':\n",
    "        base_costs['cost'] * 0.85\n",
    "        upgrade_costs['cost'] = upgrade_costs['cost'] * 0.85\n",
    "        return(base_costs,upgrade_costs)\n",
    "    \n",
    "    if difficulty == 'hard':\n",
    "        base_costs['cost'] = base_costs['cost'] * 1.08\n",
    "        upgrade_costs['cost'] = upgrade_costs['cost'] * 1.08\n",
    "        return(base_costs,upgrade_costs)\n",
    "    \n",
    "    if difficulty == 'impoppable':\n",
    "        base_costs['cost'] = base_costs['cost'] * 1.2\n",
    "        upgrade_costs['cost'] = upgrade_costs['cost'] * 1.2\n",
    "        return(base_costs,upgrade_costs)\n",
    "    \n",
    "    else:\n",
    "        return(base_costs,upgrade_costs)\n",
    "\n",
    "    \n",
    "base, upgrade = get_costs('hard')\n"
   ]
  }
 ],
 "metadata": {
  "kernelspec": {
   "display_name": "base",
   "language": "python",
   "name": "python3"
  },
  "language_info": {
   "codemirror_mode": {
    "name": "ipython",
    "version": 3
   },
   "file_extension": ".py",
   "mimetype": "text/x-python",
   "name": "python",
   "nbconvert_exporter": "python",
   "pygments_lexer": "ipython3",
   "version": "3.11.0"
  }
 },
 "nbformat": 4,
 "nbformat_minor": 2
}
