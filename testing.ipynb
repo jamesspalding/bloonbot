{
 "cells": [
  {
   "cell_type": "markdown",
   "metadata": {},
   "source": [
    "# Bloon Bot\n",
    "\n",
    "### Model: Proximal Policy Optimization\n",
    "\n",
    "### Objectives:\n",
    "\n",
    "* Maximize rounds survived\n",
    "\n",
    "* Determine best placement\n",
    "\n",
    "* Reward passing rounds\n",
    "\n",
    "* Penalize losing lives\n",
    "\n",
    "* Penalize bloons reaching % of track\n",
    "\n",
    "* Provide map data\n",
    "\n"
   ]
  },
  {
   "cell_type": "code",
   "execution_count": 21,
   "metadata": {},
   "outputs": [],
   "source": [
    "import pytesseract\n",
    "import re\n",
    "import pyautogui\n",
    "import pydirectinput\n",
    "import time\n",
    "from PIL import ImageGrab, Image\n",
    "import cv2\n",
    "import numpy as np\n",
    "import keyboard\n",
    "import matplotlib.pyplot as plt\n",
    "\n",
    "\n",
    "import bloon_functions as bfn"
   ]
  },
  {
   "cell_type": "code",
   "execution_count": 55,
   "metadata": {},
   "outputs": [
    {
     "data": {
      "text/plain": [
       "False"
      ]
     },
     "execution_count": 55,
     "metadata": {},
     "output_type": "execute_result"
    }
   ],
   "source": [
    "def screen_cap():\n",
    "    pyautogui.hotkey('alt', 'prtscr')\n",
    "    img = ImageGrab.grabclipboard()\n",
    "    img.save('temp.png')\n",
    "    return(cv2.imread('temp.png'))\n",
    "\n",
    "\n",
    "def round_state():\n",
    "    time.sleep(2)\n",
    "    screen = screen_cap()\n",
    "\n",
    "    #new round\n",
    "    play_button = cv2.imread('assets/play_button.png')\n",
    "    result = cv2.matchTemplate(screen, play_button, cv2.TM_CCOEFF_NORMED)\n",
    "    location = np.where(result == 1)\n",
    "    newround = len(location[0]) > 0\n",
    "\n",
    "    #game over\n",
    "    restart_button = cv2.imread('assets/restart_button.png')\n",
    "    result = cv2.matchTemplate(screen, restart_button, cv2.TM_CCOEFF_NORMED)\n",
    "    location = np.where(result == 1)\n",
    "    gameover = len(location[0]) > 0\n",
    "    \n",
    "\n",
    "    if gameover:\n",
    "        #click restart\n",
    "        pyautogui.moveTo(location[0][0], location[1][0])\n",
    "        pydirectinput.click()\n",
    "\n",
    "        time.sleep(.25)\n",
    "        restart_text = cv2.imread('assets/restart_text.png')\n",
    "        result = cv2.matchTemplate(screen_cap(), restart_text, cv2.TM_CCOEFF_NORMED)\n",
    "        location = np.where(result >= .8)\n",
    "\n",
    "        #confirm restart\n",
    "        pyautogui.moveTo(location[1][0], location[0][0])\n",
    "        pydirectinput.click()        \n",
    "        return(2)\n",
    "            \n",
    "    if newround:\n",
    "        return(1)\n",
    "    else:\n",
    "        return(0)"
   ]
  },
  {
   "cell_type": "code",
   "execution_count": 83,
   "metadata": {},
   "outputs": [],
   "source": [
    "\n",
    "def define_grid(precision = 100, save = False):\n",
    "    #get/crop image\n",
    "    pyautogui.hotkey('alt', 'prtscr')\n",
    "    img = ImageGrab.grabclipboard()\n",
    "    img.save('temp.png')\n",
    "    im = Image.open('temp.png')\n",
    "    width, height = im.size\n",
    "\n",
    "    left = 0 * width\n",
    "    right = .85 * width\n",
    "    top = .11 * height\n",
    "    bottom = height\n",
    "\n",
    "    image = im.crop((left, top, right, bottom))\n",
    "    image_arr = np.array(image)\n",
    "\n",
    "    #add grid\n",
    "    fig, ax = plt.subplots()\n",
    "    ax.imshow(image)\n",
    "    ax.grid(True, color='white', linestyle='-')\n",
    "    ax.set_xticks(np.arange(0, image_arr.shape[1], precision))\n",
    "    ax.set_yticks(np.arange(0, image_arr.shape[0], precision))\n",
    "\n",
    "    #get coordinates map\n",
    "    x_centers = np.arange(precision / 2, image_arr.shape[1], precision)\n",
    "    y_centers = np.arange(precision / 2, image_arr.shape[0], precision)\n",
    "    X, Y = np.meshgrid(x_centers, y_centers)\n",
    "    coordinates = np.column_stack((X.ravel(), Y.ravel()))\n",
    "\n",
    "    if save:\n",
    "        plt.savefig('map_grid.png')\n",
    "\n",
    "    plt.close(fig)\n",
    "    return(coordinates)\n",
    "\n",
    "x = define_grid(75)"
   ]
  }
 ],
 "metadata": {
  "kernelspec": {
   "display_name": "Python 3",
   "language": "python",
   "name": "python3"
  },
  "language_info": {
   "codemirror_mode": {
    "name": "ipython",
    "version": 3
   },
   "file_extension": ".py",
   "mimetype": "text/x-python",
   "name": "python",
   "nbconvert_exporter": "python",
   "pygments_lexer": "ipython3",
   "version": "3.11.1"
  }
 },
 "nbformat": 4,
 "nbformat_minor": 2
}
