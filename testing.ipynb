{
 "cells": [
  {
   "cell_type": "code",
   "execution_count": 1,
   "metadata": {},
   "outputs": [],
   "source": [
    "import pytesseract\n",
    "import re\n",
    "import pyautogui\n",
    "import pydirectinput\n",
    "import time\n",
    "from PIL import ImageGrab, Image, ImageDraw\n",
    "import cv2\n",
    "import numpy as np\n",
    "import matplotlib.pyplot as plt\n",
    "import pandas as pd\n",
    "import random"
   ]
  },
  {
   "cell_type": "code",
   "execution_count": null,
   "metadata": {},
   "outputs": [
    {
     "name": "stdout",
     "output_type": "stream",
     "text": [
      "6\n",
      "20 80\n"
     ]
    }
   ],
   "source": [
    "data = pd.read_csv('data/tower_data.csv')\n",
    "data = data[data['attempt']==2]\n",
    "\n",
    "print(len(data))\n",
    "\n",
    "def buy_up_ratio(data): #True is buy, false is upgrade\n",
    "    n_towers = len(data)\n",
    "    base_buy = 80\n",
    "\n",
    "    tower_factor = n_towers * 5\n",
    "    new_buy = base_buy - tower_factor\n",
    "    \n",
    "    if n_towers > 12:\n",
    "        new_buy = 20\n",
    "\n",
    "    if random.randint(0,100) <= new_buy:\n",
    "        return True\n",
    "    else:\n",
    "        return False"
   ]
  }
 ],
 "metadata": {
  "kernelspec": {
   "display_name": "Python 3",
   "language": "python",
   "name": "python3"
  },
  "language_info": {
   "codemirror_mode": {
    "name": "ipython",
    "version": 3
   },
   "file_extension": ".py",
   "mimetype": "text/x-python",
   "name": "python",
   "nbconvert_exporter": "python",
   "pygments_lexer": "ipython3",
   "version": "3.11.1"
  }
 },
 "nbformat": 4,
 "nbformat_minor": 2
}
