{
 "cells": [
  {
   "cell_type": "code",
   "execution_count": 11,
   "metadata": {},
   "outputs": [],
   "source": [
    "import pandas as pd\n",
    "from sklearn.preprocessing import StandardScaler\n",
    "from sklearn.model_selection import train_test_split, RandomizedSearchCV\n",
    "from sklearn.ensemble import RandomForestClassifier\n",
    "from sklearn.metrics import classification_report, cohen_kappa_score, make_scorer\n",
    "from pickle import dump\n",
    "\n",
    "towers = pd.read_csv('data/tower_data.csv')\n",
    "rounds = pd.read_csv('data/rounds_data.csv')\n",
    "attempts = pd.read_csv('data/attempt_data.csv')\n",
    "bloon_data = pd.read_csv('assets/bloon_rounds.csv')\n",
    "\n",
    "#state lives lost in previous round, not current\n",
    "rounds['lives_lost'] = rounds['lives_lost'].shift(-1)\n",
    "rounds['lives_lost'] = rounds['lives_lost'].fillna(0)\n",
    "rounds['previous_action'] = rounds['action'].shift(1)\n",
    "rounds['previous_action'] = rounds['previous_action'].fillna('none')\n",
    "\n",
    "rounds['lost_hp'] = rounds['lives_lost'] != 0 #Response\n",
    "\n",
    "#add tower cols\n",
    "for col in list(set(towers['type'])):\n",
    "    rounds[col] = 0\n",
    "\n",
    "#current monkey placements\n",
    "for _, row in towers.iterrows():\n",
    "    attempt = row['attempt']\n",
    "    round_placed = row['round_placed']\n",
    "    tower_type = row['type']\n",
    "    \n",
    "    mask = (rounds['attempt'] == attempt) & (rounds['round'] >= round_placed)\n",
    "    rounds.loc[mask, tower_type] += 1\n",
    "\n",
    "#merge bloon data\n",
    "round_pred = pd.merge(rounds,bloon_data, left_on='round', right_on='Round')\n",
    "\n",
    "#prepare data\n",
    "response = round_pred['lost_hp']\n",
    "round_pred = round_pred.drop(['attempt','action','Round','round','lives','lives_lost','lost_hp'],axis=1)\n",
    "round_pred = pd.get_dummies(round_pred)\n",
    "round_pred = round_pred.astype(int)\n",
    "\n",
    "#split\n",
    "X_train, X_test, y_train, y_test = train_test_split(round_pred, response, test_size=0.2)\n",
    "\n",
    "#scale\n",
    "scaler = StandardScaler()\n",
    "X_train = scaler.fit_transform(X_train)\n",
    "X_test = scaler.transform(X_test)"
   ]
  },
  {
   "cell_type": "code",
   "execution_count": 35,
   "metadata": {},
   "outputs": [
    {
     "name": "stdout",
     "output_type": "stream",
     "text": [
      "Fitting 5 folds for each of 50 candidates, totalling 250 fits\n"
     ]
    },
    {
     "name": "stderr",
     "output_type": "stream",
     "text": [
      "c:\\Users\\james\\AppData\\Local\\Programs\\Python\\Python311\\Lib\\site-packages\\numpy\\ma\\core.py:2881: RuntimeWarning: invalid value encountered in cast\n",
      "  _data = np.array(data, dtype=dtype, copy=copy,\n"
     ]
    },
    {
     "name": "stdout",
     "output_type": "stream",
     "text": [
      "Best Parameters: {'n_estimators': 100, 'min_samples_split': 2, 'min_samples_leaf': 1, 'max_features': None, 'max_depth': 40, 'bootstrap': False}\n",
      "Best Cohen's Kappa: 0.15066170759880243\n"
     ]
    }
   ],
   "source": [
    "kappa_scorer = make_scorer(cohen_kappa_score)\n",
    "\n",
    "param_dist = {\n",
    "    'n_estimators': [100, 200, 300, 400, 500],\n",
    "    'max_depth': [None, 10, 20, 30, 40],\n",
    "    'min_samples_split': [2, 5, 10],\n",
    "    'min_samples_leaf': [1, 2, 4],\n",
    "    'max_features': ['sqrt', 'log2', None],\n",
    "    'bootstrap': [True, False]\n",
    "}\n",
    "\n",
    "rf = RandomForestClassifier()\n",
    "\n",
    "best_model = RandomizedSearchCV(\n",
    "    estimator=rf, \n",
    "    param_distributions=param_dist, \n",
    "    n_iter=50, \n",
    "    scoring=kappa_scorer, \n",
    "    cv=5, \n",
    "    n_jobs=-1,\n",
    "    verbose=3\n",
    ")\n",
    "\n",
    "best_model.fit(X_train, y_train)\n",
    "\n",
    "print(\"Best Parameters:\", best_model.best_params_)\n",
    "print(\"Best Cohen's Kappa:\", best_model.best_score_)"
   ]
  },
  {
   "cell_type": "code",
   "execution_count": 36,
   "metadata": {},
   "outputs": [
    {
     "name": "stdout",
     "output_type": "stream",
     "text": [
      "              precision    recall  f1-score   support\n",
      "\n",
      "       False       0.84      0.80      0.82      1787\n",
      "        True       0.32      0.38      0.35       440\n",
      "\n",
      "    accuracy                           0.72      2227\n",
      "   macro avg       0.58      0.59      0.58      2227\n",
      "weighted avg       0.74      0.72      0.73      2227\n",
      "\n"
     ]
    }
   ],
   "source": [
    "#Random Forest\n",
    "model = RandomForestClassifier(n_estimators=100, min_samples_split=2, min_samples_leaf=1, max_features=None, max_depth=40, bootstrap=False, class_weight='balanced')\n",
    "model.fit(X_train, y_train)\n",
    "y_pred = model.predict(X_test)\n",
    "\n",
    "cr1 = classification_report(y_test, y_pred,output_dict=True)\n",
    "print(classification_report(y_test, y_pred))"
   ]
  },
  {
   "cell_type": "code",
   "execution_count": 37,
   "metadata": {},
   "outputs": [
    {
     "name": "stdout",
     "output_type": "stream",
     "text": [
      "              precision    recall  f1-score   support\n",
      "\n",
      "       False       0.84      0.75      0.79      1787\n",
      "        True       0.29      0.41      0.34       440\n",
      "\n",
      "    accuracy                           0.69      2227\n",
      "   macro avg       0.57      0.58      0.57      2227\n",
      "weighted avg       0.73      0.69      0.71      2227\n",
      "\n"
     ]
    }
   ],
   "source": [
    "#tweak for better specificity\n",
    "probabilities = model.predict_proba(X_test)[:, 1]\n",
    "predictions = (probabilities >= .35).astype(int)\n",
    "\n",
    "cr2 = classification_report(y_test, predictions,output_dict=True)\n",
    "print(classification_report(y_test, predictions))\n"
   ]
  },
  {
   "cell_type": "code",
   "execution_count": 38,
   "metadata": {},
   "outputs": [
    {
     "name": "stdout",
     "output_type": "stream",
     "text": [
      "0.3840909090909091\n",
      "0.7162101481814099\n",
      "0.4113636363636364\n",
      "0.6870229007633588\n"
     ]
    }
   ],
   "source": [
    "print(cr1['True']['recall'])\n",
    "print(cr1['accuracy'])\n",
    "\n",
    "print(cr2['True']['recall'])\n",
    "print(cr2['accuracy'])\n"
   ]
  },
  {
   "cell_type": "code",
   "execution_count": 22,
   "metadata": {},
   "outputs": [],
   "source": [
    "#save model\n",
    "with open('assets/round_predictions.pkl', 'wb') as f:\n",
    "    dump(model, f)\n",
    "\n",
    "with open('assets/round_pred_scale.pkl', 'wb') as f:\n",
    "    dump(scaler, f)"
   ]
  }
 ],
 "metadata": {
  "kernelspec": {
   "display_name": "Python 3",
   "language": "python",
   "name": "python3"
  },
  "language_info": {
   "codemirror_mode": {
    "name": "ipython",
    "version": 3
   },
   "file_extension": ".py",
   "mimetype": "text/x-python",
   "name": "python",
   "nbconvert_exporter": "python",
   "pygments_lexer": "ipython3",
   "version": "3.11.1"
  }
 },
 "nbformat": 4,
 "nbformat_minor": 2
}
