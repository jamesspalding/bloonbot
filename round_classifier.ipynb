{
 "cells": [
  {
   "cell_type": "code",
   "execution_count": 20,
   "metadata": {},
   "outputs": [],
   "source": [
    "import pandas as pd\n",
    "from sklearn.preprocessing import StandardScaler\n",
    "from sklearn.model_selection import train_test_split, RandomizedSearchCV\n",
    "from sklearn.ensemble import RandomForestClassifier\n",
    "from sklearn.metrics import classification_report, cohen_kappa_score, make_scorer\n",
    "from pickle import dump\n",
    "\n",
    "towers = pd.read_csv('data/tower_data.csv')\n",
    "rounds = pd.read_csv('data/rounds_data.csv')\n",
    "attempts = pd.read_csv('data/attempt_data.csv')\n",
    "bloon_data = pd.read_csv('assets/bloon_rounds.csv')\n",
    "\n",
    "#state lives lost in previous round, not current\n",
    "rounds['lives_lost'] = rounds['lives_lost'].shift(-1)\n",
    "rounds['lives_lost'] = rounds['lives_lost'].fillna(0)\n",
    "rounds['previous_action'] = rounds['action'].shift(1)\n",
    "rounds['previous_action'] = rounds['previous_action'].fillna('none')\n",
    "\n",
    "rounds['lost_hp'] = rounds['lives_lost'] != 0 #Response\n",
    "\n",
    "#add tower cols\n",
    "for col in list(set(towers['type'])):\n",
    "    rounds[col] = 0\n",
    "\n",
    "#current monkey placements\n",
    "for _, row in towers.iterrows():\n",
    "    attempt = row['attempt']\n",
    "    round_placed = row['round_placed']\n",
    "    tower_type = row['type']\n",
    "    \n",
    "    mask = (rounds['attempt'] == attempt) & (rounds['round'] >= round_placed)\n",
    "    rounds.loc[mask, tower_type] += 1\n",
    "\n",
    "#merge bloon data\n",
    "round_pred = pd.merge(rounds,bloon_data, left_on='round', right_on='Round')\n",
    "\n",
    "#prepare data\n",
    "response = round_pred['lost_hp']\n",
    "round_pred = round_pred.drop(['attempt','action','Round','round','lives','lives_lost','lost_hp'],axis=1)\n",
    "round_pred = pd.get_dummies(round_pred)\n",
    "round_pred = round_pred.astype(int)\n",
    "\n",
    "#split\n",
    "X_train, X_test, y_train, y_test = train_test_split(round_pred, response, test_size=0.2)\n",
    "\n",
    "#scale\n",
    "scaler = StandardScaler()\n",
    "X_train = scaler.fit_transform(X_train)\n",
    "X_test = scaler.transform(X_test)"
   ]
  },
  {
   "cell_type": "code",
   "execution_count": 2,
   "metadata": {},
   "outputs": [
    {
     "name": "stdout",
     "output_type": "stream",
     "text": [
      "Fitting 5 folds for each of 50 candidates, totalling 250 fits\n",
      "Best Parameters: {'n_estimators': 300, 'min_samples_split': 2, 'min_samples_leaf': 4, 'max_features': None, 'max_depth': 30, 'bootstrap': True}\n",
      "Best Cohen's Kappa: 0.3196046424617356\n"
     ]
    }
   ],
   "source": [
    "kappa_scorer = make_scorer(cohen_kappa_score)\n",
    "\n",
    "param_dist = {\n",
    "    'n_estimators': [100, 200, 300, 400, 500],\n",
    "    'max_depth': [None, 10, 20, 30, 40],\n",
    "    'min_samples_split': [2, 5, 10],\n",
    "    'min_samples_leaf': [1, 2, 4],\n",
    "    'max_features': ['sqrt', 'log2', None],\n",
    "    'bootstrap': [True, False]\n",
    "}\n",
    "\n",
    "rf = RandomForestClassifier()\n",
    "\n",
    "best_model = RandomizedSearchCV(\n",
    "    estimator=rf, \n",
    "    param_distributions=param_dist, \n",
    "    n_iter=50, \n",
    "    scoring=kappa_scorer, \n",
    "    cv=5, \n",
    "    n_jobs=-1,\n",
    "    verbose=3\n",
    ")\n",
    "\n",
    "best_model.fit(X_train, y_train)\n",
    "\n",
    "print(\"Best Parameters:\", best_model.best_params_)\n",
    "print(\"Best Cohen's Kappa:\", best_model.best_score_)"
   ]
  },
  {
   "cell_type": "code",
   "execution_count": 21,
   "metadata": {},
   "outputs": [
    {
     "name": "stdout",
     "output_type": "stream",
     "text": [
      "              precision    recall  f1-score   support\n",
      "\n",
      "       False       0.80      0.79      0.79      1059\n",
      "        True       0.56      0.58      0.57       500\n",
      "\n",
      "    accuracy                           0.72      1559\n",
      "   macro avg       0.68      0.68      0.68      1559\n",
      "weighted avg       0.72      0.72      0.72      1559\n",
      "\n"
     ]
    }
   ],
   "source": [
    "#Random Forest\n",
    "model = RandomForestClassifier(n_estimators=300, min_samples_split=2, min_samples_leaf=4, max_features=None, max_depth=30, bootstrap=True, class_weight='balanced')\n",
    "model.fit(X_train, y_train)\n",
    "y_pred = model.predict(X_test)\n",
    "\n",
    "print(classification_report(y_test, y_pred))"
   ]
  },
  {
   "cell_type": "code",
   "execution_count": 29,
   "metadata": {},
   "outputs": [
    {
     "name": "stdout",
     "output_type": "stream",
     "text": [
      "              precision    recall  f1-score   support\n",
      "\n",
      "       False       0.90      0.50      0.64      1059\n",
      "        True       0.46      0.88      0.60       500\n",
      "\n",
      "    accuracy                           0.62      1559\n",
      "   macro avg       0.68      0.69      0.62      1559\n",
      "weighted avg       0.76      0.62      0.63      1559\n",
      "\n"
     ]
    }
   ],
   "source": [
    "#tweak for better specificity\n",
    "probabilities = model.predict_proba(X_test)[:, 1]\n",
    "predictions = (probabilities >= .25).astype(int)\n",
    "\n",
    "print(classification_report(y_test, predictions))"
   ]
  },
  {
   "cell_type": "code",
   "execution_count": 22,
   "metadata": {},
   "outputs": [],
   "source": [
    "#save model\n",
    "with open('assets/round_predictions.pkl', 'wb') as f:\n",
    "    dump(model, f)\n",
    "\n",
    "with open('assets/round_pred_scale.pkl', 'wb') as f:\n",
    "    dump(scaler, f)"
   ]
  }
 ],
 "metadata": {
  "kernelspec": {
   "display_name": "Python 3",
   "language": "python",
   "name": "python3"
  },
  "language_info": {
   "codemirror_mode": {
    "name": "ipython",
    "version": 3
   },
   "file_extension": ".py",
   "mimetype": "text/x-python",
   "name": "python",
   "nbconvert_exporter": "python",
   "pygments_lexer": "ipython3",
   "version": "3.11.1"
  }
 },
 "nbformat": 4,
 "nbformat_minor": 2
}
